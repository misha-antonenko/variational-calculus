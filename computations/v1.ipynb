{
 "cells": [
  {
   "cell_type": "code",
   "execution_count": 50,
   "metadata": {},
   "outputs": [
    {
     "data": {
      "text/latex": [
       "$\\displaystyle \\sqrt{\\left(r^{2}{\\left(t \\right)} + 1\\right) \\left(\\frac{d}{d t} r{\\left(t \\right)}\\right)^{2} + r^{2}{\\left(t \\right)} \\left(\\frac{d}{d t} \\alpha{\\left(t \\right)}\\right)^{2}}$"
      ],
      "text/plain": [
       "sqrt((r(t)**2 + 1)*Derivative(r(t), t)**2 + r(t)**2*Derivative(alpha(t), t)**2)"
      ]
     },
     "execution_count": 50,
     "metadata": {},
     "output_type": "execute_result"
    }
   ],
   "source": [
    "a = Function('alpha')\n",
    "r = Function('r')\n",
    "P = sqrt((a(t).diff(t))**2 * r(t)**2 + r(t).diff(t)**2 * (r(t)**2 + 1))\n",
    "P"
   ]
  },
  {
   "cell_type": "code",
   "execution_count": 51,
   "metadata": {},
   "outputs": [],
   "source": [
    "diff_F_z = (P.diff(a(t)), P.diff(r(t)))"
   ]
  },
  {
   "cell_type": "code",
   "execution_count": 52,
   "metadata": {},
   "outputs": [
    {
     "data": {
      "text/latex": [
       "$\\displaystyle 0$"
      ],
      "text/plain": [
       "0"
      ]
     },
     "execution_count": 52,
     "metadata": {},
     "output_type": "execute_result"
    }
   ],
   "source": [
    "diff_F_z[0]"
   ]
  },
  {
   "cell_type": "code",
   "execution_count": 53,
   "metadata": {},
   "outputs": [
    {
     "data": {
      "text/latex": [
       "$\\displaystyle \\frac{r{\\left(t \\right)} \\left(\\frac{d}{d t} \\alpha{\\left(t \\right)}\\right)^{2} + r{\\left(t \\right)} \\left(\\frac{d}{d t} r{\\left(t \\right)}\\right)^{2}}{\\sqrt{\\left(r^{2}{\\left(t \\right)} + 1\\right) \\left(\\frac{d}{d t} r{\\left(t \\right)}\\right)^{2} + r^{2}{\\left(t \\right)} \\left(\\frac{d}{d t} \\alpha{\\left(t \\right)}\\right)^{2}}}$"
      ],
      "text/plain": [
       "(r(t)*Derivative(alpha(t), t)**2 + r(t)*Derivative(r(t), t)**2)/sqrt((r(t)**2 + 1)*Derivative(r(t), t)**2 + r(t)**2*Derivative(alpha(t), t)**2)"
      ]
     },
     "execution_count": 53,
     "metadata": {},
     "output_type": "execute_result"
    }
   ],
   "source": [
    "diff_F_z[1]"
   ]
  },
  {
   "cell_type": "code",
   "execution_count": 54,
   "metadata": {},
   "outputs": [],
   "source": [
    "diff_F_w = (P.diff(a(t).diff(t)), P.diff(r(t).diff(t)))"
   ]
  },
  {
   "cell_type": "code",
   "execution_count": 55,
   "metadata": {},
   "outputs": [
    {
     "data": {
      "text/latex": [
       "$\\displaystyle \\frac{r^{2}{\\left(t \\right)} \\frac{d}{d t} \\alpha{\\left(t \\right)}}{\\sqrt{\\left(r^{2}{\\left(t \\right)} + 1\\right) \\left(\\frac{d}{d t} r{\\left(t \\right)}\\right)^{2} + r^{2}{\\left(t \\right)} \\left(\\frac{d}{d t} \\alpha{\\left(t \\right)}\\right)^{2}}}$"
      ],
      "text/plain": [
       "r(t)**2*Derivative(alpha(t), t)/sqrt((r(t)**2 + 1)*Derivative(r(t), t)**2 + r(t)**2*Derivative(alpha(t), t)**2)"
      ]
     },
     "execution_count": 55,
     "metadata": {},
     "output_type": "execute_result"
    }
   ],
   "source": [
    "diff_F_w[0]"
   ]
  },
  {
   "cell_type": "code",
   "execution_count": 56,
   "metadata": {},
   "outputs": [
    {
     "data": {
      "text/latex": [
       "$\\displaystyle \\frac{\\left(r^{2}{\\left(t \\right)} + 1\\right) \\frac{d}{d t} r{\\left(t \\right)}}{\\sqrt{\\left(r^{2}{\\left(t \\right)} + 1\\right) \\left(\\frac{d}{d t} r{\\left(t \\right)}\\right)^{2} + r^{2}{\\left(t \\right)} \\left(\\frac{d}{d t} \\alpha{\\left(t \\right)}\\right)^{2}}}$"
      ],
      "text/plain": [
       "(r(t)**2 + 1)*Derivative(r(t), t)/sqrt((r(t)**2 + 1)*Derivative(r(t), t)**2 + r(t)**2*Derivative(alpha(t), t)**2)"
      ]
     },
     "execution_count": 56,
     "metadata": {},
     "output_type": "execute_result"
    }
   ],
   "source": [
    "diff_F_w[1]"
   ]
  },
  {
   "cell_type": "code",
   "execution_count": 58,
   "metadata": {},
   "outputs": [],
   "source": [
    "diff_diff_F_w_t = (P.diff(a(t).diff(t)).diff(t), P.diff(r(t).diff(t)).diff(t))"
   ]
  },
  {
   "cell_type": "code",
   "execution_count": 59,
   "metadata": {},
   "outputs": [
    {
     "data": {
      "text/latex": [
       "$\\displaystyle \\frac{r^{2}{\\left(t \\right)} \\frac{d^{2}}{d t^{2}} \\alpha{\\left(t \\right)}}{\\sqrt{\\left(r^{2}{\\left(t \\right)} + 1\\right) \\left(\\frac{d}{d t} r{\\left(t \\right)}\\right)^{2} + r^{2}{\\left(t \\right)} \\left(\\frac{d}{d t} \\alpha{\\left(t \\right)}\\right)^{2}}} + \\frac{2 r{\\left(t \\right)} \\frac{d}{d t} \\alpha{\\left(t \\right)} \\frac{d}{d t} r{\\left(t \\right)}}{\\sqrt{\\left(r^{2}{\\left(t \\right)} + 1\\right) \\left(\\frac{d}{d t} r{\\left(t \\right)}\\right)^{2} + r^{2}{\\left(t \\right)} \\left(\\frac{d}{d t} \\alpha{\\left(t \\right)}\\right)^{2}}} + \\frac{\\left(- \\left(r^{2}{\\left(t \\right)} + 1\\right) \\frac{d}{d t} r{\\left(t \\right)} \\frac{d^{2}}{d t^{2}} r{\\left(t \\right)} - r^{2}{\\left(t \\right)} \\frac{d}{d t} \\alpha{\\left(t \\right)} \\frac{d^{2}}{d t^{2}} \\alpha{\\left(t \\right)} - r{\\left(t \\right)} \\left(\\frac{d}{d t} \\alpha{\\left(t \\right)}\\right)^{2} \\frac{d}{d t} r{\\left(t \\right)} - r{\\left(t \\right)} \\left(\\frac{d}{d t} r{\\left(t \\right)}\\right)^{3}\\right) r^{2}{\\left(t \\right)} \\frac{d}{d t} \\alpha{\\left(t \\right)}}{\\left(\\left(r^{2}{\\left(t \\right)} + 1\\right) \\left(\\frac{d}{d t} r{\\left(t \\right)}\\right)^{2} + r^{2}{\\left(t \\right)} \\left(\\frac{d}{d t} \\alpha{\\left(t \\right)}\\right)^{2}\\right)^{\\frac{3}{2}}}$"
      ],
      "text/plain": [
       "r(t)**2*Derivative(alpha(t), (t, 2))/sqrt((r(t)**2 + 1)*Derivative(r(t), t)**2 + r(t)**2*Derivative(alpha(t), t)**2) + 2*r(t)*Derivative(alpha(t), t)*Derivative(r(t), t)/sqrt((r(t)**2 + 1)*Derivative(r(t), t)**2 + r(t)**2*Derivative(alpha(t), t)**2) + (-(r(t)**2 + 1)*Derivative(r(t), t)*Derivative(r(t), (t, 2)) - r(t)**2*Derivative(alpha(t), t)*Derivative(alpha(t), (t, 2)) - r(t)*Derivative(alpha(t), t)**2*Derivative(r(t), t) - r(t)*Derivative(r(t), t)**3)*r(t)**2*Derivative(alpha(t), t)/((r(t)**2 + 1)*Derivative(r(t), t)**2 + r(t)**2*Derivative(alpha(t), t)**2)**(3/2)"
      ]
     },
     "execution_count": 59,
     "metadata": {},
     "output_type": "execute_result"
    }
   ],
   "source": [
    "diff_diff_F_w_t[0]"
   ]
  },
  {
   "cell_type": "code",
   "execution_count": 60,
   "metadata": {},
   "outputs": [
    {
     "data": {
      "text/latex": [
       "$\\displaystyle \\frac{\\left(r^{2}{\\left(t \\right)} + 1\\right) \\frac{d^{2}}{d t^{2}} r{\\left(t \\right)}}{\\sqrt{\\left(r^{2}{\\left(t \\right)} + 1\\right) \\left(\\frac{d}{d t} r{\\left(t \\right)}\\right)^{2} + r^{2}{\\left(t \\right)} \\left(\\frac{d}{d t} \\alpha{\\left(t \\right)}\\right)^{2}}} + \\frac{2 r{\\left(t \\right)} \\left(\\frac{d}{d t} r{\\left(t \\right)}\\right)^{2}}{\\sqrt{\\left(r^{2}{\\left(t \\right)} + 1\\right) \\left(\\frac{d}{d t} r{\\left(t \\right)}\\right)^{2} + r^{2}{\\left(t \\right)} \\left(\\frac{d}{d t} \\alpha{\\left(t \\right)}\\right)^{2}}} + \\frac{\\left(r^{2}{\\left(t \\right)} + 1\\right) \\left(- \\left(r^{2}{\\left(t \\right)} + 1\\right) \\frac{d}{d t} r{\\left(t \\right)} \\frac{d^{2}}{d t^{2}} r{\\left(t \\right)} - r^{2}{\\left(t \\right)} \\frac{d}{d t} \\alpha{\\left(t \\right)} \\frac{d^{2}}{d t^{2}} \\alpha{\\left(t \\right)} - r{\\left(t \\right)} \\left(\\frac{d}{d t} \\alpha{\\left(t \\right)}\\right)^{2} \\frac{d}{d t} r{\\left(t \\right)} - r{\\left(t \\right)} \\left(\\frac{d}{d t} r{\\left(t \\right)}\\right)^{3}\\right) \\frac{d}{d t} r{\\left(t \\right)}}{\\left(\\left(r^{2}{\\left(t \\right)} + 1\\right) \\left(\\frac{d}{d t} r{\\left(t \\right)}\\right)^{2} + r^{2}{\\left(t \\right)} \\left(\\frac{d}{d t} \\alpha{\\left(t \\right)}\\right)^{2}\\right)^{\\frac{3}{2}}}$"
      ],
      "text/plain": [
       "(r(t)**2 + 1)*Derivative(r(t), (t, 2))/sqrt((r(t)**2 + 1)*Derivative(r(t), t)**2 + r(t)**2*Derivative(alpha(t), t)**2) + 2*r(t)*Derivative(r(t), t)**2/sqrt((r(t)**2 + 1)*Derivative(r(t), t)**2 + r(t)**2*Derivative(alpha(t), t)**2) + (r(t)**2 + 1)*(-(r(t)**2 + 1)*Derivative(r(t), t)*Derivative(r(t), (t, 2)) - r(t)**2*Derivative(alpha(t), t)*Derivative(alpha(t), (t, 2)) - r(t)*Derivative(alpha(t), t)**2*Derivative(r(t), t) - r(t)*Derivative(r(t), t)**3)*Derivative(r(t), t)/((r(t)**2 + 1)*Derivative(r(t), t)**2 + r(t)**2*Derivative(alpha(t), t)**2)**(3/2)"
      ]
     },
     "execution_count": 60,
     "metadata": {},
     "output_type": "execute_result"
    }
   ],
   "source": [
    "diff_diff_F_w_t[1]"
   ]
  },
  {
   "cell_type": "code",
   "execution_count": 68,
   "metadata": {},
   "outputs": [
    {
     "data": {
      "text/latex": [
       "$\\displaystyle \\frac{\\left(- r^{3}{\\left(t \\right)} \\frac{d}{d t} \\alpha{\\left(t \\right)} \\frac{d^{2}}{d t^{2}} r{\\left(t \\right)} + r^{3}{\\left(t \\right)} \\frac{d^{2}}{d t^{2}} \\alpha{\\left(t \\right)} \\frac{d}{d t} r{\\left(t \\right)} + r^{2}{\\left(t \\right)} \\left(\\frac{d}{d t} \\alpha{\\left(t \\right)}\\right)^{3} + r^{2}{\\left(t \\right)} \\frac{d}{d t} \\alpha{\\left(t \\right)} \\left(\\frac{d}{d t} r{\\left(t \\right)}\\right)^{2} - r{\\left(t \\right)} \\frac{d}{d t} \\alpha{\\left(t \\right)} \\frac{d^{2}}{d t^{2}} r{\\left(t \\right)} + r{\\left(t \\right)} \\frac{d^{2}}{d t^{2}} \\alpha{\\left(t \\right)} \\frac{d}{d t} r{\\left(t \\right)} + 2 \\frac{d}{d t} \\alpha{\\left(t \\right)} \\left(\\frac{d}{d t} r{\\left(t \\right)}\\right)^{2}\\right) r{\\left(t \\right)} \\frac{d}{d t} r{\\left(t \\right)}}{\\left(r^{2}{\\left(t \\right)} \\left(\\frac{d}{d t} \\alpha{\\left(t \\right)}\\right)^{2} + r^{2}{\\left(t \\right)} \\left(\\frac{d}{d t} r{\\left(t \\right)}\\right)^{2} + \\left(\\frac{d}{d t} r{\\left(t \\right)}\\right)^{2}\\right)^{\\frac{3}{2}}}$"
      ],
      "text/plain": [
       "(-r(t)**3*Derivative(alpha(t), t)*Derivative(r(t), (t, 2)) + r(t)**3*Derivative(alpha(t), (t, 2))*Derivative(r(t), t) + r(t)**2*Derivative(alpha(t), t)**3 + r(t)**2*Derivative(alpha(t), t)*Derivative(r(t), t)**2 - r(t)*Derivative(alpha(t), t)*Derivative(r(t), (t, 2)) + r(t)*Derivative(alpha(t), (t, 2))*Derivative(r(t), t) + 2*Derivative(alpha(t), t)*Derivative(r(t), t)**2)*r(t)*Derivative(r(t), t)/(r(t)**2*Derivative(alpha(t), t)**2 + r(t)**2*Derivative(r(t), t)**2 + Derivative(r(t), t)**2)**(3/2)"
      ]
     },
     "execution_count": 68,
     "metadata": {},
     "output_type": "execute_result"
    }
   ],
   "source": [
    "(diff_diff_F_w_t[0] - diff_F_z[0]).simplify()"
   ]
  },
  {
   "cell_type": "code",
   "execution_count": 66,
   "metadata": {},
   "outputs": [
    {
     "data": {
      "text/latex": [
       "$\\displaystyle - \\frac{\\left(- r^{3}{\\left(t \\right)} \\frac{d}{d t} \\alpha{\\left(t \\right)} \\frac{d^{2}}{d t^{2}} r{\\left(t \\right)} + r^{3}{\\left(t \\right)} \\frac{d^{2}}{d t^{2}} \\alpha{\\left(t \\right)} \\frac{d}{d t} r{\\left(t \\right)} + r^{2}{\\left(t \\right)} \\left(\\frac{d}{d t} \\alpha{\\left(t \\right)}\\right)^{3} + r^{2}{\\left(t \\right)} \\frac{d}{d t} \\alpha{\\left(t \\right)} \\left(\\frac{d}{d t} r{\\left(t \\right)}\\right)^{2} - r{\\left(t \\right)} \\frac{d}{d t} \\alpha{\\left(t \\right)} \\frac{d^{2}}{d t^{2}} r{\\left(t \\right)} + r{\\left(t \\right)} \\frac{d^{2}}{d t^{2}} \\alpha{\\left(t \\right)} \\frac{d}{d t} r{\\left(t \\right)} + 2 \\frac{d}{d t} \\alpha{\\left(t \\right)} \\left(\\frac{d}{d t} r{\\left(t \\right)}\\right)^{2}\\right) r{\\left(t \\right)} \\frac{d}{d t} \\alpha{\\left(t \\right)}}{\\left(r^{2}{\\left(t \\right)} \\left(\\frac{d}{d t} \\alpha{\\left(t \\right)}\\right)^{2} + r^{2}{\\left(t \\right)} \\left(\\frac{d}{d t} r{\\left(t \\right)}\\right)^{2} + \\left(\\frac{d}{d t} r{\\left(t \\right)}\\right)^{2}\\right)^{\\frac{3}{2}}}$"
      ],
      "text/plain": [
       "-(-r(t)**3*Derivative(alpha(t), t)*Derivative(r(t), (t, 2)) + r(t)**3*Derivative(alpha(t), (t, 2))*Derivative(r(t), t) + r(t)**2*Derivative(alpha(t), t)**3 + r(t)**2*Derivative(alpha(t), t)*Derivative(r(t), t)**2 - r(t)*Derivative(alpha(t), t)*Derivative(r(t), (t, 2)) + r(t)*Derivative(alpha(t), (t, 2))*Derivative(r(t), t) + 2*Derivative(alpha(t), t)*Derivative(r(t), t)**2)*r(t)*Derivative(alpha(t), t)/(r(t)**2*Derivative(alpha(t), t)**2 + r(t)**2*Derivative(r(t), t)**2 + Derivative(r(t), t)**2)**(3/2)"
      ]
     },
     "execution_count": 66,
     "metadata": {},
     "output_type": "execute_result"
    }
   ],
   "source": [
    "(diff_diff_F_w_t[1] - diff_F_z[1]).simplify()"
   ]
  },
  {
   "cell_type": "code",
   "execution_count": null,
   "metadata": {},
   "outputs": [],
   "source": []
  }
 ],
 "metadata": {
  "kernelspec": {
   "display_name": "Python 3",
   "language": "python",
   "name": "python3"
  },
  "language_info": {
   "codemirror_mode": {
    "name": "ipython",
    "version": 3
   },
   "file_extension": ".py",
   "mimetype": "text/x-python",
   "name": "python",
   "nbconvert_exporter": "python",
   "pygments_lexer": "ipython3",
   "version": "3.8.3"
  }
 },
 "nbformat": 4,
 "nbformat_minor": 4
}
