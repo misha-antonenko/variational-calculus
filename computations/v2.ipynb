{
 "cells": [
  {
   "cell_type": "code",
   "execution_count": 3,
   "metadata": {},
   "outputs": [
    {
     "data": {
      "text/latex": [
       "$\\displaystyle \\sqrt{\\left(r^{2}{\\left(t \\right)} + 1\\right) \\left(\\frac{d}{d t} r{\\left(t \\right)}\\right)^{2} + r^{2}{\\left(t \\right)}}$"
      ],
      "text/plain": [
       "sqrt((r(t)**2 + 1)*Derivative(r(t), t)**2 + r(t)**2)"
      ]
     },
     "execution_count": 3,
     "metadata": {},
     "output_type": "execute_result"
    }
   ],
   "source": [
    "a = Function('alpha')\n",
    "r = Function('r')\n",
    "P = sqrt(1**2 * r(t)**2 + r(t).diff(t)**2 * (r(t)**2 + 1))\n",
    "P"
   ]
  },
  {
   "cell_type": "code",
   "execution_count": 17,
   "metadata": {},
   "outputs": [],
   "source": [
    "A = r(t)*(1+r(t).diff(t)**2)/P"
   ]
  },
  {
   "cell_type": "code",
   "execution_count": 18,
   "metadata": {},
   "outputs": [
    {
     "data": {
      "text/latex": [
       "$\\displaystyle \\frac{\\left(\\left(\\frac{d}{d t} r{\\left(t \\right)}\\right)^{2} + 1\\right) r{\\left(t \\right)}}{\\sqrt{\\left(r^{2}{\\left(t \\right)} + 1\\right) \\left(\\frac{d}{d t} r{\\left(t \\right)}\\right)^{2} + r^{2}{\\left(t \\right)}}}$"
      ],
      "text/plain": [
       "(Derivative(r(t), t)**2 + 1)*r(t)/sqrt((r(t)**2 + 1)*Derivative(r(t), t)**2 + r(t)**2)"
      ]
     },
     "execution_count": 18,
     "metadata": {},
     "output_type": "execute_result"
    }
   ],
   "source": [
    "A"
   ]
  },
  {
   "cell_type": "code",
   "execution_count": 19,
   "metadata": {},
   "outputs": [],
   "source": [
    "B = (r(t)**2+1)*r(t).diff(t)/P"
   ]
  },
  {
   "cell_type": "code",
   "execution_count": 20,
   "metadata": {},
   "outputs": [
    {
     "data": {
      "text/latex": [
       "$\\displaystyle \\frac{\\left(r^{2}{\\left(t \\right)} + 1\\right) \\frac{d}{d t} r{\\left(t \\right)}}{\\sqrt{\\left(r^{2}{\\left(t \\right)} + 1\\right) \\left(\\frac{d}{d t} r{\\left(t \\right)}\\right)^{2} + r^{2}{\\left(t \\right)}}}$"
      ],
      "text/plain": [
       "(r(t)**2 + 1)*Derivative(r(t), t)/sqrt((r(t)**2 + 1)*Derivative(r(t), t)**2 + r(t)**2)"
      ]
     },
     "execution_count": 20,
     "metadata": {},
     "output_type": "execute_result"
    }
   ],
   "source": [
    "B"
   ]
  },
  {
   "cell_type": "code",
   "execution_count": 21,
   "metadata": {
    "scrolled": true
   },
   "outputs": [
    {
     "data": {
      "text/latex": [
       "$\\displaystyle \\frac{\\left(r^{3}{\\left(t \\right)} \\frac{d^{2}}{d t^{2}} r{\\left(t \\right)} - r^{2}{\\left(t \\right)} \\left(\\frac{d}{d t} r{\\left(t \\right)}\\right)^{2} - r^{2}{\\left(t \\right)} + r{\\left(t \\right)} \\frac{d^{2}}{d t^{2}} r{\\left(t \\right)} - 2 \\left(\\frac{d}{d t} r{\\left(t \\right)}\\right)^{2}\\right) r{\\left(t \\right)}}{\\left(r^{2}{\\left(t \\right)} \\left(\\frac{d}{d t} r{\\left(t \\right)}\\right)^{2} + r^{2}{\\left(t \\right)} + \\left(\\frac{d}{d t} r{\\left(t \\right)}\\right)^{2}\\right)^{\\frac{3}{2}}}$"
      ],
      "text/plain": [
       "(r(t)**3*Derivative(r(t), (t, 2)) - r(t)**2*Derivative(r(t), t)**2 - r(t)**2 + r(t)*Derivative(r(t), (t, 2)) - 2*Derivative(r(t), t)**2)*r(t)/(r(t)**2*Derivative(r(t), t)**2 + r(t)**2 + Derivative(r(t), t)**2)**(3/2)"
      ]
     },
     "execution_count": 21,
     "metadata": {},
     "output_type": "execute_result"
    }
   ],
   "source": [
    "(B.diff(t)-A).simplify()"
   ]
  },
  {
   "cell_type": "markdown",
   "metadata": {},
   "source": [
    "So we have the following:\n",
    "$$ r^3 r'' - r^2 (r')^2 - r^2 + r r'' -2(r')^2 = 0, $$\n",
    "$$ (r^3+r) r'' - (r^2+2) (r')^2 - r^2 = 0, $$\n",
    "$$ (r+\\frac{1}{r}) r'' - (1+\\frac{2}{r^2}) (r')^2 - 1 = 0, $$"
   ]
  },
  {
   "cell_type": "code",
   "execution_count": null,
   "metadata": {},
   "outputs": [],
   "source": []
  }
 ],
 "metadata": {
  "kernelspec": {
   "display_name": "Python 3",
   "language": "python",
   "name": "python3"
  },
  "language_info": {
   "codemirror_mode": {
    "name": "ipython",
    "version": 3
   },
   "file_extension": ".py",
   "mimetype": "text/x-python",
   "name": "python",
   "nbconvert_exporter": "python",
   "pygments_lexer": "ipython3",
   "version": "3.8.3"
  }
 },
 "nbformat": 4,
 "nbformat_minor": 4
}
